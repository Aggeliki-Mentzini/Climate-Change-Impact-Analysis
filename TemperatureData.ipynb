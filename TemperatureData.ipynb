{
  "nbformat": 4,
  "nbformat_minor": 0,
  "metadata": {
    "colab": {
      "private_outputs": true,
      "provenance": [],
      "authorship_tag": "ABX9TyPGl1FB1jokdfNosfO8OD0Y",
      "include_colab_link": true
    },
    "kernelspec": {
      "name": "python3",
      "display_name": "Python 3"
    },
    "language_info": {
      "name": "python"
    }
  },
  "cells": [
    {
      "cell_type": "markdown",
      "metadata": {
        "id": "view-in-github",
        "colab_type": "text"
      },
      "source": [
        "<a href=\"https://colab.research.google.com/github/Aggeliki-Mentzini/Climate-Change-Impact-Analysis/blob/main/TemperatureData.ipynb\" target=\"_parent\"><img src=\"https://colab.research.google.com/assets/colab-badge.svg\" alt=\"Open In Colab\"/></a>"
      ]
    },
    {
      "cell_type": "code",
      "execution_count": null,
      "metadata": {
        "id": "x9s6wCDI_d53"
      },
      "outputs": [],
      "source": [
        "import requests\n",
        "import pandas as pd"
      ]
    },
    {
      "cell_type": "code",
      "source": [
        "from google.colab import files\n",
        "uploaded = files.upload()"
      ],
      "metadata": {
        "id": "7_zsnxuUyXsx"
      },
      "execution_count": null,
      "outputs": []
    },
    {
      "cell_type": "code",
      "source": [
        "import h5py\n",
        "import numpy as np\n",
        "\n",
        "file_path = '3B-HHR-E.MS.MRG.3IMERG.20250122-S053000-E055959.0330.V07B.HDF5'\n",
        "\n",
        "with h5py.File(file_path, 'r') as file:\n",
        "    data = file['/path/to/dataset']\n",
        "\n",
        "    # Check the dimensions\n",
        "    print(\"Data shape:\", data.shape)\n",
        "\n",
        "    # Taking a slice: for example, the first 'page' of the 3D array\n",
        "    data_slice = data[0, :, :]\n",
        "\n",
        "    # Convert to DataFrame\n",
        "    df_slice = pd.DataFrame(data_slice)\n",
        "    print(df_slice.head())\n",
        "\n"
      ],
      "metadata": {
        "id": "91Zp8UEoyf9P"
      },
      "execution_count": null,
      "outputs": []
    },
    {
      "cell_type": "code",
      "source": [],
      "metadata": {
        "id": "2s76KnZUy9bZ"
      },
      "execution_count": null,
      "outputs": []
    }
  ]
}